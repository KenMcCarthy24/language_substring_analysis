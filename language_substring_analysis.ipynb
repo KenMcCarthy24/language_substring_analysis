{
 "cells": [
  {
   "cell_type": "markdown",
   "id": "165ad6f6-5894-4287-8eef-0a45931ad197",
   "metadata": {},
   "source": [
    "# Import Libraries\n",
    "\n",
    "- `numpy` for array operations\n",
    "\n",
    "- `wordfreq` as data source for word frequencies in different languages"
   ]
  },
  {
   "cell_type": "code",
   "execution_count": 1,
   "id": "22df5015-0100-413c-96fc-1c2db272ce18",
   "metadata": {},
   "outputs": [],
   "source": [
    "import wordfreq\n",
    "import numpy as np"
   ]
  },
  {
   "cell_type": "markdown",
   "id": "cdd68fe5-95a3-4dea-9cff-6ca20e1e6818",
   "metadata": {},
   "source": [
    "# Data Acquisition\n",
    "\n",
    "Get raw frequent word data from the `wordfreq` library"
   ]
  },
  {
   "cell_type": "code",
   "execution_count": 2,
   "id": "5d1f05f7-806d-4e5f-871f-17fa0861320f",
   "metadata": {},
   "outputs": [],
   "source": [
    "# Define all languages to be studied, identified within the wordfreq library by two character strings\n",
    "latin_language_keys = [\"ca\", # Catalan\n",
    "                       \"cs\", # Czech\n",
    "                       \"da\", # Danish\n",
    "                       \"nl\", # Dutch\n",
    "                       \"en\", # English\n",
    "                       \"fi\", # Finnish\n",
    "                       \"fr\", # French\n",
    "                       \"de\", # German\n",
    "                       \"hu\", # Hungarian\n",
    "                       \"is\", # Icelandic\n",
    "                       \"it\", # Italian\n",
    "                       \"lv\", # Latvian\n",
    "                       \"lt\", # Lithuanian\n",
    "                       \"nb\", # Norwegian\n",
    "                       \"pl\", # Polish\n",
    "                       \"pt\", # Portuguese\n",
    "                       \"ro\", # Romanian\n",
    "                       \"es\", # Spanish\n",
    "                       \"sv\", # Swedish\n",
    "                       \"tr\"] # Turkish"
   ]
  },
  {
   "cell_type": "code",
   "execution_count": 3,
   "id": "6dade38f-a4c3-4aa4-8aca-3fa71385b71c",
   "metadata": {},
   "outputs": [],
   "source": [
    "# Get the 5000 most used words of each language, ordered by frequency\n",
    "word_dict = {}\n",
    "for key in latin_language_keys:\n",
    "    word_dict[key] = wordfreq.top_n_list(key, 5000, ascii_only=False)"
   ]
  },
  {
   "cell_type": "markdown",
   "id": "05fcf685-3e7f-4743-84b0-0adef6a1f5ae",
   "metadata": {},
   "source": [
    "# Substring Extraction\n",
    "\n",
    "Define a function for getting all substrings of a certain size from a string"
   ]
  },
  {
   "cell_type": "code",
   "execution_count": 4,
   "id": "b96b88f5-d5b3-44f7-951d-95f93c275869",
   "metadata": {},
   "outputs": [],
   "source": [
    "def substrings_between(s, min_size, max_size):\n",
    "    \"\"\"\n",
    "    Return all substrings of `s` whose length is between `min_size` and `max_size` (inclusive).\n",
    "    \"\"\"\n",
    "    max_size = min(max_size, len(s))\n",
    "    min_size = max(1, min_size)  # ensure at least 1\n",
    "    \n",
    "    out = []\n",
    "    for L in range(min_size, max_size + 1):\n",
    "        for i in range(len(s) - L + 1):\n",
    "            out.append(s[i:i+L])\n",
    "    return out"
   ]
  },
  {
   "cell_type": "markdown",
   "id": "10da0606-a7c9-454e-9f26-36376fe8db9e",
   "metadata": {},
   "source": [
    "Next, Build up a dictionary where each key is a unique substring and each value is an array representing the counts of that substring in each language, index in the same order as in `latin_language_keys`. Only consider substrings between 1 and 5 characters.\n",
    "\n",
    "**For Example**: if the only languages being studied were 'en', 'fr', and 'de' and the substring 'tch' appeared twice in English, four times in french, and ten times in german, the entry would be:\n",
    "\n",
    "{\"tch\": [2, 4, 10]}"
   ]
  },
  {
   "cell_type": "code",
   "execution_count": 5,
   "id": "7eed0acc-8550-4522-a8bd-6cb4008eccba",
   "metadata": {},
   "outputs": [],
   "source": [
    "# Initialize dict to store results\n",
    "substring_dict = {}\n",
    "\n",
    "# Loop over all languages\n",
    "for i in range(len(latin_language_keys)):\n",
    "    # Get word list for this language\n",
    "    key = latin_language_keys[i]\n",
    "    word_list = word_dict[key]\n",
    "\n",
    "    # Loop over each word\n",
    "    for word in word_list:\n",
    "        # Get all substrings between 1 and 5 characters\n",
    "        substrings = substrings_between(word, min_size=1, max_size=5)\n",
    "\n",
    "        # Loop over each substring\n",
    "        for substring in substrings:\n",
    "            # If substring was never seen in any previous word, initialize a count list for it\n",
    "            if substring not in substring_dict.keys():\n",
    "                substring_dict[substring] = [0] * len(latin_language_keys)\n",
    "            # Increment the proper element in the count list for this substring by 1\n",
    "            substring_dict[substring][i] += 1"
   ]
  },
  {
   "cell_type": "markdown",
   "id": "05bc9c69-7410-467d-9d8c-a71c519ef621",
   "metadata": {},
   "source": [
    "Now that all substrings that exist in the data have been identified and counted by language, convert `substring_dict` into a numpy array `count array` where `count_array[i][j]` is the number of occurences of the ith substring in the jth language."
   ]
  },
  {
   "cell_type": "code",
   "execution_count": 6,
   "id": "edd74974-16fb-45ad-8c27-3ef2bc88e353",
   "metadata": {},
   "outputs": [
    {
     "data": {
      "text/plain": [
       "(182319, 20)"
      ]
     },
     "execution_count": 6,
     "metadata": {},
     "output_type": "execute_result"
    }
   ],
   "source": [
    "all_substrings = np.array(list(substring_dict.keys()))\n",
    "count_array = np.array([substring_dict[s] for s in all_substrings])\n",
    "count_array.shape"
   ]
  },
  {
   "cell_type": "markdown",
   "id": "bd1e7df5-2a3c-4c55-afa1-2240450374c4",
   "metadata": {},
   "source": [
    "There are 182,319 unique substrings present across the 20 studied languages."
   ]
  },
  {
   "cell_type": "markdown",
   "id": "ee3e8700-987a-4451-a619-1702d8c7700e",
   "metadata": {},
   "source": [
    "# Which Substrings Most Strongly Identify Each Language?"
   ]
  },
  {
   "cell_type": "markdown",
   "id": "2e97b730-bbd2-4abe-9ea9-31a7d537ac29",
   "metadata": {},
   "source": [
    "Let $L = the~set~of~all~studied~languages$\n",
    "\n",
    "Let $S = the~set~of~all~identified~substrings$.\n",
    "\n",
    "In order to determine what substrings $s\\in S$ are most useful for identifying a particular language $l\\in L$, the quantity to be maximized is the likelihood ratio:\n",
    "\n",
    "$$LR_{s,l} = \\frac{P(s|l)}{P(s|\\neg l)}$$\n",
    "\n",
    "This can be interpreted  as **\"The ratio of the probability that the substring appears in language l aganist the probability that it appears in any other language\"** to answer the question **\"How much more likely is this substring to appear in language l that to appear in any other language?\"**\n",
    "\n",
    "To calculate these probabilities let:\n",
    "* $c_l(s)$ be the count of substring $s$ in language $l$\n",
    "* $c_{\\neg l}(s)$ be the count of substring $s$ in all studied languages but $l$\n",
    "* $N_l$ be the total number of substrings present in language $l$\n",
    "* $N_{\\neg l}$ be the total number of substrings present in all studied languages but $l$\n",
    "\n",
    "then:\n",
    "\n",
    "$$P(s|l) = \\frac{c_l(s)}{N_l},~P(s|\\neg l)=\\frac{c_{\\neg l}(s)}{N_{\\neg l}}$$\n",
    "\n",
    "Based on these equations, it is possible for $P(s|\\neg l)$ to equal $0$ if a particular substring $s$ is only present in language $l$ and in no other languages, this causes the likelihood ratio to have $0$ in the denominator, leading to a $LR=\\infty$. This would technically lead to the identification of substrings that uniquely identify a language, but they might not be very common substrings. A substring could only ever appear once in a single language and zero times in other languages and still have an infinite likelihood ratio. \n",
    "\n",
    "To address this issue, [additive smoothing](https://en.wikipedia.org/wiki/Additive_smoothing) is applied to both conditional probabilities. This is a technique designed to smooth out count data to avoid zero counts like in this situation. A small constant $\\alpha$ is added to the numerator and $\\alpha|S|$ is added to the denominator, with $|S|$ being the total number of substrings in the set $S$. This has the effect of adding a small probability that a substring is possible in a language that is has never been observed in.\n",
    "\n",
    "Therefore the final equations are:\n",
    "\n",
    "$$P'(s|l) = \\frac{c_l(s) + \\alpha}{N_l + \\alpha|S|},~P'(s|\\neg l)=\\frac{c_{\\neg l}(s) + \\alpha}{N_{\\neg l} + \\alpha|S|}$$\n",
    "\n",
    "Therefore the final likelihood ratio to be maximized is:\n",
    "\n",
    "$$LR_{s,l} = \\frac{P'(s|l)}{P'(s|\\neg l)} = \\frac{(c_l(s) + \\alpha)(N_{\\neg l} + \\alpha|S|)}{(N_l + \\alpha|S|)(c_{\\neg l}(s) + \\alpha)}$$\n",
    "\n",
    "This likelihood ratio is calculated below for each $s, l$ combination using $\\alpha=0.5$"
   ]
  },
  {
   "cell_type": "code",
   "execution_count": 7,
   "id": "0ed4fd39-08db-4981-99fc-5900c73f69a5",
   "metadata": {},
   "outputs": [],
   "source": [
    "alpha = 0.1\n",
    "\n",
    "# Initialize Results Array\n",
    "likelihood_ratio_array = np.empty(count_array.shape)\n",
    "\n",
    "# Loop over all languages\n",
    "for lang_idx in range(len(latin_language_keys)):\n",
    "    # Calculate total number of substrings in this language and not in this language\n",
    "    total_substrings_lang = np.sum(count_array[:, lang_idx])\n",
    "    total_substrings_other = np.sum(np.delete(count_array, lang_idx, axis=1))\n",
    "\n",
    "    # loop over all substrings\n",
    "    for substr_idx in range(len(all_substrings)):\n",
    "        substring_counts = count_array[substr_idx]\n",
    "\n",
    "        # Get number of times this substring appeared in this language and in all other languages\n",
    "        count_in_lang = substring_counts[lang_idx]\n",
    "        count_in_other = np.sum(np.delete(substring_counts, lang_idx))\n",
    "\n",
    "        # Calculate likelihood ratio for this language/substring pair\n",
    "        likelihood_ratio_array[substr_idx][lang_idx] = ((count_in_lang + alpha) / (total_substrings_lang + alpha * len(all_substrings))) / ((count_in_other + alpha) / (total_substrings_other + alpha * len(all_substrings)))\n"
   ]
  },
  {
   "cell_type": "markdown",
   "id": "aa3bc23f-9d5a-4628-b634-3c8c092178a7",
   "metadata": {},
   "source": [
    "# Results: Most Distinctive Substrings per Language"
   ]
  },
  {
   "cell_type": "code",
   "execution_count": 8,
   "id": "941bea24-27fc-40ba-a6f2-9bf6bc16a87d",
   "metadata": {
    "scrolled": true
   },
   "outputs": [
    {
     "name": "stdout",
     "output_type": "stream",
     "text": [
      "Language Code: ca\n",
      "ènc, LR=7803.25\n",
      "ènci, LR=7485.39\n",
      "cions, LR=6531.84\n",
      "ència, LR=6055.06\n",
      "·l, LR=4306.88\n",
      "----------------------------------------\n",
      "Language Code: cs\n",
      "ě, LR=107673.45\n",
      "ř, LR=67787.56\n",
      "ně, LR=34549.31\n",
      "ů, LR=30486.86\n",
      "ře, LR=27901.66\n",
      "----------------------------------------\n",
      "Language Code: da\n",
      "øj, LR=4955.18\n",
      "æng, LR=4426.16\n",
      "søg, LR=4073.48\n",
      "øge, LR=3544.45\n",
      "skab, LR=3544.45\n",
      "----------------------------------------\n",
      "Language Code: nl\n",
      "ijk, LR=24132.53\n",
      "lijk, LR=20778.57\n",
      "elijk, LR=14549.79\n",
      "voor, LR=8161.30\n",
      "ijke, LR=8161.30\n",
      "----------------------------------------\n",
      "Language Code: en\n",
      "ally, LR=4658.52\n",
      "tly, LR=3283.31\n",
      "ying, LR=2595.70\n",
      "ough, LR=2595.70\n",
      "cted, LR=2423.80\n",
      "----------------------------------------\n",
      "Language Code: fi\n",
      "ää, LR=40651.46\n",
      "ään, LR=15561.77\n",
      "tää, LR=13560.75\n",
      "ssä, LR=9866.56\n",
      "llä, LR=9866.56\n",
      "----------------------------------------\n",
      "Language Code: fr\n",
      "êt, LR=4872.58\n",
      "eux, LR=4402.55\n",
      "rése, LR=3932.53\n",
      "dép, LR=3462.51\n",
      "prése, LR=3149.16\n",
      "----------------------------------------\n",
      "Language Code: de\n",
      "eich, LR=7791.39\n",
      "schl, LR=7013.81\n",
      "tlic, LR=7013.81\n",
      "tlich, LR=7013.81\n",
      "ichen, LR=5769.67\n",
      "----------------------------------------\n",
      "Language Code: hu\n",
      "ő, LR=47404.60\n",
      "ű, LR=11057.11\n",
      "gye, LR=10887.26\n",
      "szá, LR=10377.72\n",
      "ész, LR=9358.63\n",
      "----------------------------------------\n",
      "Language Code: is\n",
      "ð, LR=162899.59\n",
      "ið, LR=42603.95\n",
      "að, LR=33686.42\n",
      "þ, LR=32776.47\n",
      "ði, LR=30956.56\n",
      "----------------------------------------\n",
      "Language Code: it\n",
      "zione, LR=18637.32\n",
      "azion, LR=14210.77\n",
      "aggi, LR=5815.58\n",
      "ll', LR=5357.66\n",
      "zioni, LR=5357.66\n",
      "----------------------------------------\n",
      "Language Code: lv\n",
      "ā, LR=237696.08\n",
      "ī, LR=120191.66\n",
      "ē, LR=94821.39\n",
      "tā, LR=34066.27\n",
      "nā, LR=32564.08\n",
      "----------------------------------------\n",
      "Language Code: lt\n",
      "ė, LR=95227.12\n",
      "ų, LR=78153.61\n",
      "ių, LR=28009.79\n",
      "į, LR=27086.89\n",
      "ės, LR=26625.45\n",
      "----------------------------------------\n",
      "Language Code: nb\n",
      "sjon, LR=11334.15\n",
      "asj, LR=6459.25\n",
      "øy, LR=5762.83\n",
      "asjo, LR=5762.83\n",
      "asjon, LR=5762.83\n",
      "----------------------------------------\n",
      "Language Code: pl\n",
      "ł, LR=101039.42\n",
      "ś, LR=45847.79\n",
      "ć, LR=43427.10\n",
      "ż, LR=36326.42\n",
      "ał, LR=29225.74\n",
      "----------------------------------------\n",
      "Language Code: pt\n",
      "ão, LR=39831.64\n",
      "ção, LR=25323.96\n",
      "çã, LR=25323.96\n",
      "ação, LR=15652.18\n",
      "açã, LR=15652.18\n",
      "----------------------------------------\n",
      "Language Code: ro\n",
      "ă, LR=151955.57\n",
      "ț, LR=76721.94\n",
      "ți, LR=54151.85\n",
      "ș, LR=32563.08\n",
      "tă, LR=29782.70\n",
      "----------------------------------------\n",
      "Language Code: es\n",
      "ción, LR=23698.10\n",
      "ación, LR=14256.01\n",
      "sión, LR=5278.28\n",
      "iento, LR=5123.50\n",
      "mient, LR=4813.92\n",
      "----------------------------------------\n",
      "Language Code: sv\n",
      "förs, LR=6009.31\n",
      "ställ, LR=4012.26\n",
      "stäl, LR=4012.26\n",
      "ång, LR=3649.16\n",
      "öra, LR=3649.16\n",
      "----------------------------------------\n",
      "Language Code: tr\n",
      "ı, LR=254328.60\n",
      "ş, LR=97532.68\n",
      "ğ, LR=51230.53\n",
      "ın, LR=48073.56\n",
      "lı, LR=30359.48\n",
      "----------------------------------------\n"
     ]
    }
   ],
   "source": [
    "# Loop over all languages\n",
    "for i in range(len(latin_language_keys)):\n",
    "    # Get array of substring sorted in descending order by likelihood ratio for this language\n",
    "    indices_sorted = np.argsort(likelihood_ratio_array[:,i])[::-1]\n",
    "\n",
    "    substrings_sorted = all_substrings[indices_sorted]\n",
    "    likelihood_ratios_sorted = likelihood_ratio_array[:,i][indices_sorted]\n",
    "\n",
    "    print(f\"Language Code: {latin_language_keys[i]}\")\n",
    "\n",
    "    # Report first 5 most likely substrings for this language and the corresponding likelihood ratio\n",
    "    for j in range(5):\n",
    "        print(f\"{substrings_sorted[j]}, LR={likelihood_ratios_sorted[j]:.2f}\")\n",
    "\n",
    "    # Spacer\n",
    "    print(\"-\" * 40)"
   ]
  }
 ],
 "metadata": {
  "kernelspec": {
   "display_name": "Python 3 (ipykernel)",
   "language": "python",
   "name": "python3"
  },
  "language_info": {
   "codemirror_mode": {
    "name": "ipython",
    "version": 3
   },
   "file_extension": ".py",
   "mimetype": "text/x-python",
   "name": "python",
   "nbconvert_exporter": "python",
   "pygments_lexer": "ipython3",
   "version": "3.11.13"
  }
 },
 "nbformat": 4,
 "nbformat_minor": 5
}
