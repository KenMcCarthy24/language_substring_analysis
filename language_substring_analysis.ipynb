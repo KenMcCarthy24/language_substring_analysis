{
 "cells": [
  {
   "cell_type": "markdown",
   "id": "165ad6f6-5894-4287-8eef-0a45931ad197",
   "metadata": {},
   "source": [
    "# Import Libraries\n",
    "\n",
    "- `numpy` for array operations\n",
    "\n",
    "- `wordfreq` as data source for word frequencies in different languages"
   ]
  },
  {
   "cell_type": "code",
   "execution_count": 7,
   "id": "22df5015-0100-413c-96fc-1c2db272ce18",
   "metadata": {},
   "outputs": [],
   "source": [
    "import wordfreq\n",
    "import numpy as np"
   ]
  },
  {
   "cell_type": "markdown",
   "id": "cdd68fe5-95a3-4dea-9cff-6ca20e1e6818",
   "metadata": {},
   "source": [
    "# Data Acquisition\n",
    "\n",
    "Get raw frequent word data from the `wordfreq` library"
   ]
  },
  {
   "cell_type": "code",
   "execution_count": 8,
   "id": "5d1f05f7-806d-4e5f-871f-17fa0861320f",
   "metadata": {},
   "outputs": [],
   "source": [
    "# Define all languages to be studied, identified within the wordfreq library by two character strings\n",
    "latin_language_keys = [\"ca\", # Catalan\n",
    "                       \"cs\", # Czech\n",
    "                       \"da\", # Danish\n",
    "                       \"nl\", # Dutch\n",
    "                       \"en\", # English\n",
    "                       \"fi\", # Finnish\n",
    "                       \"fr\", # French\n",
    "                       \"de\", # German\n",
    "                       \"hu\", # Hungarian\n",
    "                       \"is\", # Icelandic\n",
    "                       \"it\", # Italian\n",
    "                       \"lv\", # Latvian\n",
    "                       \"lt\", # Lithuanian\n",
    "                       \"nb\", # Norwegian\n",
    "                       \"pl\", # Polish\n",
    "                       \"pt\", # Portuguese\n",
    "                       \"ro\", # Romanian\n",
    "                       \"es\", # Spanish\n",
    "                       \"sv\", # Swedish\n",
    "                       \"tr\"] # Turkish"
   ]
  },
  {
   "cell_type": "code",
   "execution_count": 9,
   "id": "6dade38f-a4c3-4aa4-8aca-3fa71385b71c",
   "metadata": {},
   "outputs": [],
   "source": [
    "# Get the 5000 most used words of each language, ordered by frequency\n",
    "word_dict = {}\n",
    "for key in latin_language_keys:\n",
    "    word_dict[key] = wordfreq.top_n_list(key, 5000, ascii_only=False)"
   ]
  },
  {
   "cell_type": "markdown",
   "id": "05fcf685-3e7f-4743-84b0-0adef6a1f5ae",
   "metadata": {},
   "source": [
    "# Substring Extraction\n",
    "\n",
    "Define a function for getting all substrings of a certain size from a string"
   ]
  },
  {
   "cell_type": "code",
   "execution_count": 10,
   "id": "b96b88f5-d5b3-44f7-951d-95f93c275869",
   "metadata": {},
   "outputs": [],
   "source": [
    "def substrings_between(s, min_size, max_size):\n",
    "    \"\"\"\n",
    "    Return all substrings of `s` whose length is between `min_size` and `max_size` (inclusive).\n",
    "    \"\"\"\n",
    "    max_size = min(max_size, len(s))\n",
    "    min_size = max(1, min_size)  # ensure at least 1\n",
    "    \n",
    "    out = []\n",
    "    for L in range(min_size, max_size + 1):\n",
    "        for i in range(len(s) - L + 1):\n",
    "            out.append(s[i:i+L])\n",
    "    return out"
   ]
  },
  {
   "cell_type": "markdown",
   "id": "10da0606-a7c9-454e-9f26-36376fe8db9e",
   "metadata": {},
   "source": [
    "Next, Build up a dictionary where each key is a unique substring and each value is an array representing the counts of that substring in each language, index in the same order as in `latin_language_keys`. Only consider substrings between 1 and 5 characters.\n",
    "\n",
    "**For Example**: if the only languages being studied were 'en', 'fr', and 'de' and the substring 'tch' appeared twice in English, four times in french, and ten times in german, the entry would be:\n",
    "\n",
    "{\"tch\": [2, 4, 10]}"
   ]
  },
  {
   "cell_type": "code",
   "execution_count": 11,
   "id": "7eed0acc-8550-4522-a8bd-6cb4008eccba",
   "metadata": {},
   "outputs": [],
   "source": [
    "# Initialize dict to store results\n",
    "substring_dict = {}\n",
    "\n",
    "# Loop over all languages\n",
    "for i in range(len(latin_language_keys)):\n",
    "    # Get word list for this language\n",
    "    key = latin_language_keys[i]\n",
    "    word_list = word_dict[key]\n",
    "\n",
    "    # Loop over each word\n",
    "    for word in word_list:\n",
    "        # Get all substrings between 1 and 5 characters\n",
    "        substrings = substrings_between(word, min_size=1, max_size=5)\n",
    "\n",
    "        # Loop over each substring\n",
    "        for substring in substrings:\n",
    "            # If substring was never seen in any previous word, initialize a count list for it\n",
    "            if substring not in substring_dict.keys():\n",
    "                substring_dict[substring] = [0] * len(latin_language_keys)\n",
    "            # Increment the proper element in the count list for this substring by 1\n",
    "            substring_dict[substring][i] += 1"
   ]
  },
  {
   "cell_type": "markdown",
   "id": "05bc9c69-7410-467d-9d8c-a71c519ef621",
   "metadata": {},
   "source": [
    "Now that all substrings that exist in the data have been identified and counted by language, convert `substring_dict` into a numpy array `count array` where `count_array[i][j]` is the number of occurences of the ith substring in the jth language."
   ]
  },
  {
   "cell_type": "code",
   "execution_count": 12,
   "id": "edd74974-16fb-45ad-8c27-3ef2bc88e353",
   "metadata": {},
   "outputs": [
    {
     "data": {
      "text/plain": [
       "(182319, 20)"
      ]
     },
     "execution_count": 12,
     "metadata": {},
     "output_type": "execute_result"
    }
   ],
   "source": [
    "all_substrings = np.array(list(substring_dict.keys()))\n",
    "count_array = np.array([substring_dict[s] for s in all_substrings])\n",
    "count_array.shape"
   ]
  },
  {
   "cell_type": "markdown",
   "id": "bd1e7df5-2a3c-4c55-afa1-2240450374c4",
   "metadata": {},
   "source": [
    "There are 182,319 unique substrings present across the 20 studied languages."
   ]
  },
  {
   "cell_type": "markdown",
   "id": "ee3e8700-987a-4451-a619-1702d8c7700e",
   "metadata": {},
   "source": [
    "# Which Substrings Most Strongly Identify Each Language?"
   ]
  },
  {
   "cell_type": "markdown",
   "id": "2e97b730-bbd2-4abe-9ea9-31a7d537ac29",
   "metadata": {},
   "source": [
    "Let $L = the~set~of~all~studied~languages$\n",
    "\n",
    "Let $S = the~set~of~all~identified~substrings$.\n",
    "\n",
    "In order to determine what substrings $s\\in S$ are most useful for identifying a particular language $l\\in L$, the quantity to be maximized is the likelihood ratio:\n",
    "\n",
    "$$LR_{s,l} = \\frac{P(s|l)}{P(s|\\neg l)}$$\n",
    "\n",
    "This can be interpreted  as **\"The ratio of the probability that the substring appears in language l aganist the probability that it appears in any other language\"** to answer the question **\"How much more likely is this substring to appear in language l that to appear in any other language?\"**\n",
    "\n",
    "To calculate these probabilities let:\n",
    "* $c_l(s)$ be the count of substring $s$ in language $l$\n",
    "* $c_{\\neg l}(s)$ be the count of substring $s$ in all studied languages but $l$\n",
    "* $N_l$ be the total number of substrings present in language $l$\n",
    "* $N_{\\neg l}$ be the total number of substrings present in all studied languages but $l$\n",
    "\n",
    "then:\n",
    "\n",
    "$$P(s|l) = \\frac{c_l(s)}{N_l},~P(s|\\neg l)=\\frac{c_{\\neg l}(s)}{N_{\\neg l}}$$\n",
    "\n",
    "Based on these equations, it is possible for $P(s|\\neg l)$ to equal $0$ if a particular substring $s$ is only present in language $l$ and in no other languages, this causes the likelihood ratio to have $0$ in the denominator, leading to a $LR=\\infty$. This would technically lead to the identification of substrings that uniquely identify a language, but they might not be very common substrings. A substring could only ever appear once in a single language and zero times in other languages and still have an infinite likelihood ratio. \n",
    "\n",
    "To address this issue, [additive smoothing](https://en.wikipedia.org/wiki/Additive_smoothing) is applied to both conditional probabilities. This is a technique designed to smooth out count data to avoid zero counts like in this situation. A small constant $\\alpha$ is added to the numerator and $\\alpha|S|$ is added to the denominator, with $|S|$ being the total number of substrings in the set $S$. This has the effect of adding a small probability that a substring is possible in a language that is has never been observed in.\n",
    "\n",
    "Therefore the final equations are:\n",
    "\n",
    "$$P'(s|l) = \\frac{c_l(s) + \\alpha}{N_l + \\alpha|S|},~P'(s|\\neg l)=\\frac{c_{\\neg l}(s) + \\alpha}{N_{\\neg l} + \\alpha|S|}$$\n",
    "\n",
    "Therefore the final likelihood ratio to be maximized is:\n",
    "\n",
    "$$LR_{s,l} = \\frac{P'(s|l)}{P'(s|\\neg l)} = \\frac{(c_l(s) + \\alpha)(N_{\\neg l} + \\alpha|S|)}{(N_l + \\alpha|S|)(c_{\\neg l}(s) + \\alpha)}$$\n",
    "\n",
    "This likelihood ratio is calculated below for each $s, l$ combination using $\\alpha=0.5$"
   ]
  },
  {
   "cell_type": "code",
   "execution_count": 15,
   "id": "0ed4fd39-08db-4981-99fc-5900c73f69a5",
   "metadata": {},
   "outputs": [],
   "source": [
    "alpha = 0.1\n",
    "\n",
    "# Initialize Results Array\n",
    "likelihood_ratio_array = np.empty(count_array.shape)\n",
    "\n",
    "# Loop over all languages\n",
    "for lang_idx in range(len(latin_language_keys)):\n",
    "    # Calculate total number of substrings in this language and not in this language\n",
    "    total_substrings_lang = np.sum(count_array[:, lang_idx])\n",
    "    total_substrings_other = np.sum(np.delete(count_array, lang_idx, axis=1))\n",
    "\n",
    "    # loop over all substrings\n",
    "    for substr_idx in range(len(all_substrings)):\n",
    "        substring_counts = count_array[substr_idx]\n",
    "\n",
    "        # Get number of times this substring appeared in this language and in all other languages\n",
    "        count_in_lang = substring_counts[lang_idx]\n",
    "        count_in_other = np.sum(np.delete(substring_counts, lang_idx))\n",
    "\n",
    "        # Calculate likelihood ratio for this language/substring pair\n",
    "        likelihood_ratio_array[substr_idx][lang_idx] = ((count_in_lang + alpha) / (total_substrings_lang + alpha * len(all_substrings))) / ((count_in_other + alpha) / (total_substrings_other + alpha * len(all_substrings)))\n"
   ]
  },
  {
   "cell_type": "markdown",
   "id": "aa3bc23f-9d5a-4628-b634-3c8c092178a7",
   "metadata": {},
   "source": [
    "# Results: Most Distinctive Substrings per Language"
   ]
  },
  {
   "cell_type": "code",
   "execution_count": 16,
   "id": "941bea24-27fc-40ba-a6f2-9bf6bc16a87d",
   "metadata": {
    "scrolled": true
   },
   "outputs": [
    {
     "name": "stdout",
     "output_type": "stream",
     "text": [
      "Language Code: ca\n",
      "ènc, log(LR)=3.89\n",
      "ènci, log(LR)=3.87\n",
      "cions, log(LR)=3.82\n",
      "ència, log(LR)=3.78\n",
      "·l, log(LR)=3.63\n",
      "----------------------------------------\n",
      "Language Code: cs\n",
      "ě, log(LR)=5.03\n",
      "ř, log(LR)=4.83\n",
      "ně, log(LR)=4.54\n",
      "ů, log(LR)=4.48\n",
      "ře, log(LR)=4.45\n",
      "----------------------------------------\n",
      "Language Code: da\n",
      "øj, log(LR)=3.70\n",
      "æng, log(LR)=3.65\n",
      "søg, log(LR)=3.61\n",
      "skab, log(LR)=3.55\n",
      "øge, log(LR)=3.55\n",
      "----------------------------------------\n",
      "Language Code: nl\n",
      "ijk, log(LR)=4.38\n",
      "lijk, log(LR)=4.32\n",
      "elijk, log(LR)=4.16\n",
      "voor, log(LR)=3.91\n",
      "ijke, log(LR)=3.91\n",
      "----------------------------------------\n",
      "Language Code: en\n",
      "ally, log(LR)=3.67\n",
      "tly, log(LR)=3.52\n",
      "ough, log(LR)=3.41\n",
      "ying, log(LR)=3.41\n",
      "cted, log(LR)=3.38\n",
      "----------------------------------------\n",
      "Language Code: fi\n",
      "ää, log(LR)=4.61\n",
      "ään, log(LR)=4.19\n",
      "tää, log(LR)=4.13\n",
      "ssä, log(LR)=3.99\n",
      "llä, log(LR)=3.99\n",
      "----------------------------------------\n",
      "Language Code: fr\n",
      "êt, log(LR)=3.69\n",
      "eux, log(LR)=3.64\n",
      "rése, log(LR)=3.59\n",
      "dép, log(LR)=3.54\n",
      "prése, log(LR)=3.50\n",
      "----------------------------------------\n",
      "Language Code: de\n",
      "eich, log(LR)=3.89\n",
      "schl, log(LR)=3.85\n",
      "tlic, log(LR)=3.85\n",
      "tlich, log(LR)=3.85\n",
      "ichen, log(LR)=3.76\n",
      "----------------------------------------\n",
      "Language Code: hu\n",
      "ő, log(LR)=4.68\n",
      "ű, log(LR)=4.04\n",
      "gye, log(LR)=4.04\n",
      "szá, log(LR)=4.02\n",
      "ész, log(LR)=3.97\n",
      "----------------------------------------\n",
      "Language Code: is\n",
      "ð, log(LR)=5.21\n",
      "ið, log(LR)=4.63\n",
      "að, log(LR)=4.53\n",
      "þ, log(LR)=4.52\n",
      "ði, log(LR)=4.49\n",
      "----------------------------------------\n",
      "Language Code: it\n",
      "zione, log(LR)=4.27\n",
      "azion, log(LR)=4.15\n",
      "aggi, log(LR)=3.76\n",
      "ll', log(LR)=3.73\n",
      "zioni, log(LR)=3.73\n",
      "----------------------------------------\n",
      "Language Code: lv\n",
      "ā, log(LR)=5.38\n",
      "ī, log(LR)=5.08\n",
      "ē, log(LR)=4.98\n",
      "tā, log(LR)=4.53\n",
      "nā, log(LR)=4.51\n",
      "----------------------------------------\n",
      "Language Code: lt\n",
      "ė, log(LR)=4.98\n",
      "ų, log(LR)=4.89\n",
      "ių, log(LR)=4.45\n",
      "į, log(LR)=4.43\n",
      "ės, log(LR)=4.43\n",
      "----------------------------------------\n",
      "Language Code: nb\n",
      "sjon, log(LR)=4.05\n",
      "asj, log(LR)=3.81\n",
      "asjo, log(LR)=3.76\n",
      "asjon, log(LR)=3.76\n",
      "øy, log(LR)=3.76\n",
      "----------------------------------------\n",
      "Language Code: pl\n",
      "ł, log(LR)=5.00\n",
      "ś, log(LR)=4.66\n",
      "ć, log(LR)=4.64\n",
      "ż, log(LR)=4.56\n",
      "ał, log(LR)=4.47\n",
      "----------------------------------------\n",
      "Language Code: pt\n",
      "ão, log(LR)=4.60\n",
      "ção, log(LR)=4.40\n",
      "çã, log(LR)=4.40\n",
      "ação, log(LR)=4.19\n",
      "açã, log(LR)=4.19\n",
      "----------------------------------------\n",
      "Language Code: ro\n",
      "ă, log(LR)=5.18\n",
      "ț, log(LR)=4.88\n",
      "ți, log(LR)=4.73\n",
      "ș, log(LR)=4.51\n",
      "tă, log(LR)=4.47\n",
      "----------------------------------------\n",
      "Language Code: es\n",
      "ción, log(LR)=4.37\n",
      "ación, log(LR)=4.15\n",
      "sión, log(LR)=3.72\n",
      "iento, log(LR)=3.71\n",
      "mient, log(LR)=3.68\n",
      "----------------------------------------\n",
      "Language Code: sv\n",
      "förs, log(LR)=3.78\n",
      "stäl, log(LR)=3.60\n",
      "ställ, log(LR)=3.60\n",
      "öra, log(LR)=3.56\n",
      "ång, log(LR)=3.56\n",
      "----------------------------------------\n",
      "Language Code: tr\n",
      "ı, log(LR)=5.41\n",
      "ş, log(LR)=4.99\n",
      "ğ, log(LR)=4.71\n",
      "ın, log(LR)=4.68\n",
      "lı, log(LR)=4.48\n",
      "----------------------------------------\n"
     ]
    }
   ],
   "source": [
    "log_likelihood_ratio_array = np.log10(likelihood_ratio_array)\n",
    "\n",
    "# Loop over all languages\n",
    "for i in range(len(latin_language_keys)):\n",
    "    # Get array of substring sorted in descending order by likelihood ratio for this language\n",
    "    indices_sorted = np.argsort(log_likelihood_ratio_array[:,i])[::-1]\n",
    "\n",
    "    substrings_sorted = all_substrings[indices_sorted]\n",
    "    likelihood_ratios_sorted = log_likelihood_ratio_array[:,i][indices_sorted]\n",
    "\n",
    "    print(f\"Language Code: {latin_language_keys[i]}\")\n",
    "\n",
    "    # Report first 5 most likely substrings for this language and the corresponding likelihood ratio\n",
    "    for j in range(5):\n",
    "        print(f\"{substrings_sorted[j]}, log(LR)={likelihood_ratios_sorted[j]:.2f}\")\n",
    "\n",
    "    # Spacer\n",
    "    print(\"-\" * 40)"
   ]
  }
 ],
 "metadata": {
  "kernelspec": {
   "display_name": "Python 3 (ipykernel)",
   "language": "python",
   "name": "python3"
  },
  "language_info": {
   "codemirror_mode": {
    "name": "ipython",
    "version": 3
   },
   "file_extension": ".py",
   "mimetype": "text/x-python",
   "name": "python",
   "nbconvert_exporter": "python",
   "pygments_lexer": "ipython3",
   "version": "3.11.13"
  }
 },
 "nbformat": 4,
 "nbformat_minor": 5
}
